{
 "cells": [
  {
   "cell_type": "code",
   "execution_count": 17,
   "metadata": {
    "_cell_guid": "b1076dfc-b9ad-4769-8c92-a6c4dae69d19",
    "_uuid": "8f2839f25d086af736a60e9eeb907d3b93b6e0e5",
    "execution": {
     "iopub.execute_input": "2022-07-22T04:36:24.671608Z",
     "iopub.status.busy": "2022-07-22T04:36:24.670946Z",
     "iopub.status.idle": "2022-07-22T04:36:24.710937Z",
     "shell.execute_reply": "2022-07-22T04:36:24.709643Z",
     "shell.execute_reply.started": "2022-07-22T04:36:24.671488Z"
    }
   },
   "outputs": [],
   "source": [
    "\n",
    "import numpy as np # linear algebra\n",
    "import pandas as pd # data processing, CSV file I/O (e.g. pd.read_csv)\n"
   ]
  },
  {
   "cell_type": "code",
   "execution_count": 18,
   "metadata": {
    "execution": {
     "iopub.execute_input": "2022-07-22T04:57:41.612923Z",
     "iopub.status.busy": "2022-07-22T04:57:41.611726Z",
     "iopub.status.idle": "2022-07-22T04:57:41.816934Z",
     "shell.execute_reply": "2022-07-22T04:57:41.815827Z",
     "shell.execute_reply.started": "2022-07-22T04:57:41.612863Z"
    }
   },
   "outputs": [
    {
     "data": {
      "text/html": [
       "<div>\n",
       "<style scoped>\n",
       "    .dataframe tbody tr th:only-of-type {\n",
       "        vertical-align: middle;\n",
       "    }\n",
       "\n",
       "    .dataframe tbody tr th {\n",
       "        vertical-align: top;\n",
       "    }\n",
       "\n",
       "    .dataframe thead th {\n",
       "        text-align: right;\n",
       "    }\n",
       "</style>\n",
       "<table border=\"1\" class=\"dataframe\">\n",
       "  <thead>\n",
       "    <tr style=\"text-align: right;\">\n",
       "      <th></th>\n",
       "      <th>2401</th>\n",
       "      <th>Borderlands</th>\n",
       "      <th>Positive</th>\n",
       "      <th>im getting on borderlands and i will murder you all ,</th>\n",
       "    </tr>\n",
       "  </thead>\n",
       "  <tbody>\n",
       "    <tr>\n",
       "      <th>0</th>\n",
       "      <td>2401</td>\n",
       "      <td>Borderlands</td>\n",
       "      <td>Positive</td>\n",
       "      <td>I am coming to the borders and I will kill you...</td>\n",
       "    </tr>\n",
       "    <tr>\n",
       "      <th>1</th>\n",
       "      <td>2401</td>\n",
       "      <td>Borderlands</td>\n",
       "      <td>Positive</td>\n",
       "      <td>im getting on borderlands and i will kill you ...</td>\n",
       "    </tr>\n",
       "    <tr>\n",
       "      <th>2</th>\n",
       "      <td>2401</td>\n",
       "      <td>Borderlands</td>\n",
       "      <td>Positive</td>\n",
       "      <td>im coming on borderlands and i will murder you...</td>\n",
       "    </tr>\n",
       "    <tr>\n",
       "      <th>3</th>\n",
       "      <td>2401</td>\n",
       "      <td>Borderlands</td>\n",
       "      <td>Positive</td>\n",
       "      <td>im getting on borderlands 2 and i will murder ...</td>\n",
       "    </tr>\n",
       "    <tr>\n",
       "      <th>4</th>\n",
       "      <td>2401</td>\n",
       "      <td>Borderlands</td>\n",
       "      <td>Positive</td>\n",
       "      <td>im getting into borderlands and i can murder y...</td>\n",
       "    </tr>\n",
       "    <tr>\n",
       "      <th>5</th>\n",
       "      <td>2402</td>\n",
       "      <td>Borderlands</td>\n",
       "      <td>Positive</td>\n",
       "      <td>So I spent a few hours making something for fu...</td>\n",
       "    </tr>\n",
       "    <tr>\n",
       "      <th>6</th>\n",
       "      <td>2402</td>\n",
       "      <td>Borderlands</td>\n",
       "      <td>Positive</td>\n",
       "      <td>So I spent a couple of hours doing something f...</td>\n",
       "    </tr>\n",
       "    <tr>\n",
       "      <th>7</th>\n",
       "      <td>2402</td>\n",
       "      <td>Borderlands</td>\n",
       "      <td>Positive</td>\n",
       "      <td>So I spent a few hours doing something for fun...</td>\n",
       "    </tr>\n",
       "    <tr>\n",
       "      <th>8</th>\n",
       "      <td>2402</td>\n",
       "      <td>Borderlands</td>\n",
       "      <td>Positive</td>\n",
       "      <td>So I spent a few hours making something for fu...</td>\n",
       "    </tr>\n",
       "    <tr>\n",
       "      <th>9</th>\n",
       "      <td>2402</td>\n",
       "      <td>Borderlands</td>\n",
       "      <td>Positive</td>\n",
       "      <td>2010 So I spent a few hours making something f...</td>\n",
       "    </tr>\n",
       "  </tbody>\n",
       "</table>\n",
       "</div>"
      ],
      "text/plain": [
       "   2401  Borderlands  Positive  \\\n",
       "0  2401  Borderlands  Positive   \n",
       "1  2401  Borderlands  Positive   \n",
       "2  2401  Borderlands  Positive   \n",
       "3  2401  Borderlands  Positive   \n",
       "4  2401  Borderlands  Positive   \n",
       "5  2402  Borderlands  Positive   \n",
       "6  2402  Borderlands  Positive   \n",
       "7  2402  Borderlands  Positive   \n",
       "8  2402  Borderlands  Positive   \n",
       "9  2402  Borderlands  Positive   \n",
       "\n",
       "  im getting on borderlands and i will murder you all ,  \n",
       "0  I am coming to the borders and I will kill you...     \n",
       "1  im getting on borderlands and i will kill you ...     \n",
       "2  im coming on borderlands and i will murder you...     \n",
       "3  im getting on borderlands 2 and i will murder ...     \n",
       "4  im getting into borderlands and i can murder y...     \n",
       "5  So I spent a few hours making something for fu...     \n",
       "6  So I spent a couple of hours doing something f...     \n",
       "7  So I spent a few hours doing something for fun...     \n",
       "8  So I spent a few hours making something for fu...     \n",
       "9  2010 So I spent a few hours making something f...     "
      ]
     },
     "execution_count": 18,
     "metadata": {},
     "output_type": "execute_result"
    }
   ],
   "source": [
    "twitted_data = pd.read_csv('twitter_training.csv')\n",
    "twitted_data.head(10)"
   ]
  },
  {
   "cell_type": "code",
   "execution_count": 19,
   "metadata": {
    "execution": {
     "iopub.execute_input": "2022-07-22T04:57:45.869989Z",
     "iopub.status.busy": "2022-07-22T04:57:45.869604Z",
     "iopub.status.idle": "2022-07-22T04:57:45.882234Z",
     "shell.execute_reply": "2022-07-22T04:57:45.881286Z",
     "shell.execute_reply.started": "2022-07-22T04:57:45.869956Z"
    }
   },
   "outputs": [
    {
     "data": {
      "text/html": [
       "<div>\n",
       "<style scoped>\n",
       "    .dataframe tbody tr th:only-of-type {\n",
       "        vertical-align: middle;\n",
       "    }\n",
       "\n",
       "    .dataframe tbody tr th {\n",
       "        vertical-align: top;\n",
       "    }\n",
       "\n",
       "    .dataframe thead th {\n",
       "        text-align: right;\n",
       "    }\n",
       "</style>\n",
       "<table border=\"1\" class=\"dataframe\">\n",
       "  <thead>\n",
       "    <tr style=\"text-align: right;\">\n",
       "      <th></th>\n",
       "      <th>Tweet_ID</th>\n",
       "      <th>Topic</th>\n",
       "      <th>Sentiment</th>\n",
       "      <th>Tweet</th>\n",
       "    </tr>\n",
       "  </thead>\n",
       "  <tbody>\n",
       "    <tr>\n",
       "      <th>0</th>\n",
       "      <td>2401</td>\n",
       "      <td>Borderlands</td>\n",
       "      <td>Positive</td>\n",
       "      <td>I am coming to the borders and I will kill you...</td>\n",
       "    </tr>\n",
       "    <tr>\n",
       "      <th>1</th>\n",
       "      <td>2401</td>\n",
       "      <td>Borderlands</td>\n",
       "      <td>Positive</td>\n",
       "      <td>im getting on borderlands and i will kill you ...</td>\n",
       "    </tr>\n",
       "    <tr>\n",
       "      <th>2</th>\n",
       "      <td>2401</td>\n",
       "      <td>Borderlands</td>\n",
       "      <td>Positive</td>\n",
       "      <td>im coming on borderlands and i will murder you...</td>\n",
       "    </tr>\n",
       "    <tr>\n",
       "      <th>3</th>\n",
       "      <td>2401</td>\n",
       "      <td>Borderlands</td>\n",
       "      <td>Positive</td>\n",
       "      <td>im getting on borderlands 2 and i will murder ...</td>\n",
       "    </tr>\n",
       "    <tr>\n",
       "      <th>4</th>\n",
       "      <td>2401</td>\n",
       "      <td>Borderlands</td>\n",
       "      <td>Positive</td>\n",
       "      <td>im getting into borderlands and i can murder y...</td>\n",
       "    </tr>\n",
       "  </tbody>\n",
       "</table>\n",
       "</div>"
      ],
      "text/plain": [
       "   Tweet_ID        Topic Sentiment  \\\n",
       "0      2401  Borderlands  Positive   \n",
       "1      2401  Borderlands  Positive   \n",
       "2      2401  Borderlands  Positive   \n",
       "3      2401  Borderlands  Positive   \n",
       "4      2401  Borderlands  Positive   \n",
       "\n",
       "                                               Tweet  \n",
       "0  I am coming to the borders and I will kill you...  \n",
       "1  im getting on borderlands and i will kill you ...  \n",
       "2  im coming on borderlands and i will murder you...  \n",
       "3  im getting on borderlands 2 and i will murder ...  \n",
       "4  im getting into borderlands and i can murder y...  "
      ]
     },
     "execution_count": 19,
     "metadata": {},
     "output_type": "execute_result"
    }
   ],
   "source": [
    "# We rename the columns name\n",
    "twitted_data.rename(columns={\n",
    "    '2401':'Tweet_ID',\n",
    "        'Borderlands':'Topic',\n",
    "        'Positive':'Sentiment',\n",
    "        'im getting on borderlands and i will murder you all ,':'Tweet'\n",
    "},inplace=True )\n",
    "twitted_data.head()"
   ]
  },
  {
   "cell_type": "code",
   "execution_count": 20,
   "metadata": {
    "execution": {
     "iopub.execute_input": "2022-07-22T04:57:48.905713Z",
     "iopub.status.busy": "2022-07-22T04:57:48.904705Z",
     "iopub.status.idle": "2022-07-22T04:57:48.912539Z",
     "shell.execute_reply": "2022-07-22T04:57:48.911552Z",
     "shell.execute_reply.started": "2022-07-22T04:57:48.905662Z"
    }
   },
   "outputs": [
    {
     "data": {
      "text/plain": [
       "(74681, 4)"
      ]
     },
     "execution_count": 20,
     "metadata": {},
     "output_type": "execute_result"
    }
   ],
   "source": [
    "# Shape of the data\n",
    "twitted_data.shape"
   ]
  },
  {
   "cell_type": "code",
   "execution_count": 21,
   "metadata": {
    "execution": {
     "iopub.execute_input": "2022-07-22T04:57:52.793107Z",
     "iopub.status.busy": "2022-07-22T04:57:52.792729Z",
     "iopub.status.idle": "2022-07-22T04:57:52.819183Z",
     "shell.execute_reply": "2022-07-22T04:57:52.818064Z",
     "shell.execute_reply.started": "2022-07-22T04:57:52.793075Z"
    }
   },
   "outputs": [
    {
     "data": {
      "text/plain": [
       "Tweet_ID     0.000000\n",
       "Topic        0.000000\n",
       "Sentiment    0.000000\n",
       "Tweet        0.918574\n",
       "dtype: float64"
      ]
     },
     "execution_count": 21,
     "metadata": {},
     "output_type": "execute_result"
    }
   ],
   "source": [
    "# Percentage of missing data\n",
    "(twitted_data.isnull().sum()/74681)*100"
   ]
  },
  {
   "cell_type": "code",
   "execution_count": 22,
   "metadata": {
    "execution": {
     "iopub.execute_input": "2022-07-22T04:57:59.217155Z",
     "iopub.status.busy": "2022-07-22T04:57:59.216390Z",
     "iopub.status.idle": "2022-07-22T04:57:59.244215Z",
     "shell.execute_reply": "2022-07-22T04:57:59.242936Z",
     "shell.execute_reply.started": "2022-07-22T04:57:59.217110Z"
    }
   },
   "outputs": [],
   "source": [
    "# only 0.91%  of missing data in tweet feature are null we will drop them\n",
    "twitted_data.dropna(axis=0, inplace=True)"
   ]
  },
  {
   "cell_type": "code",
   "execution_count": 23,
   "metadata": {
    "execution": {
     "iopub.execute_input": "2022-07-22T04:58:51.016307Z",
     "iopub.status.busy": "2022-07-22T04:58:51.014328Z",
     "iopub.status.idle": "2022-07-22T04:58:51.023597Z",
     "shell.execute_reply": "2022-07-22T04:58:51.022508Z",
     "shell.execute_reply.started": "2022-07-22T04:58:51.016251Z"
    }
   },
   "outputs": [
    {
     "data": {
      "text/plain": [
       "(73995, 4)"
      ]
     },
     "execution_count": 23,
     "metadata": {},
     "output_type": "execute_result"
    }
   ],
   "source": [
    "twitted_data.shape"
   ]
  },
  {
   "cell_type": "code",
   "execution_count": 24,
   "metadata": {
    "execution": {
     "iopub.execute_input": "2022-07-22T04:58:01.465077Z",
     "iopub.status.busy": "2022-07-22T04:58:01.464043Z",
     "iopub.status.idle": "2022-07-22T04:58:01.532227Z",
     "shell.execute_reply": "2022-07-22T04:58:01.530934Z",
     "shell.execute_reply.started": "2022-07-22T04:58:01.465034Z"
    }
   },
   "outputs": [
    {
     "data": {
      "text/plain": [
       "2340"
      ]
     },
     "execution_count": 24,
     "metadata": {},
     "output_type": "execute_result"
    }
   ],
   "source": [
    "# mchecking duplicate values\n",
    "twitted_data.duplicated().sum()"
   ]
  },
  {
   "cell_type": "code",
   "execution_count": 25,
   "metadata": {
    "execution": {
     "iopub.execute_input": "2022-07-22T04:58:04.845823Z",
     "iopub.status.busy": "2022-07-22T04:58:04.844873Z",
     "iopub.status.idle": "2022-07-22T04:58:04.914702Z",
     "shell.execute_reply": "2022-07-22T04:58:04.913653Z",
     "shell.execute_reply.started": "2022-07-22T04:58:04.845784Z"
    }
   },
   "outputs": [
    {
     "data": {
      "text/html": [
       "<div>\n",
       "<style scoped>\n",
       "    .dataframe tbody tr th:only-of-type {\n",
       "        vertical-align: middle;\n",
       "    }\n",
       "\n",
       "    .dataframe tbody tr th {\n",
       "        vertical-align: top;\n",
       "    }\n",
       "\n",
       "    .dataframe thead th {\n",
       "        text-align: right;\n",
       "    }\n",
       "</style>\n",
       "<table border=\"1\" class=\"dataframe\">\n",
       "  <thead>\n",
       "    <tr style=\"text-align: right;\">\n",
       "      <th></th>\n",
       "      <th>Tweet_ID</th>\n",
       "      <th>Topic</th>\n",
       "      <th>Sentiment</th>\n",
       "      <th>Tweet</th>\n",
       "    </tr>\n",
       "  </thead>\n",
       "  <tbody>\n",
       "    <tr>\n",
       "      <th>0</th>\n",
       "      <td>2401</td>\n",
       "      <td>Borderlands</td>\n",
       "      <td>Positive</td>\n",
       "      <td>I am coming to the borders and I will kill you...</td>\n",
       "    </tr>\n",
       "    <tr>\n",
       "      <th>1</th>\n",
       "      <td>2401</td>\n",
       "      <td>Borderlands</td>\n",
       "      <td>Positive</td>\n",
       "      <td>im getting on borderlands and i will kill you ...</td>\n",
       "    </tr>\n",
       "    <tr>\n",
       "      <th>2</th>\n",
       "      <td>2401</td>\n",
       "      <td>Borderlands</td>\n",
       "      <td>Positive</td>\n",
       "      <td>im coming on borderlands and i will murder you...</td>\n",
       "    </tr>\n",
       "    <tr>\n",
       "      <th>3</th>\n",
       "      <td>2401</td>\n",
       "      <td>Borderlands</td>\n",
       "      <td>Positive</td>\n",
       "      <td>im getting on borderlands 2 and i will murder ...</td>\n",
       "    </tr>\n",
       "    <tr>\n",
       "      <th>4</th>\n",
       "      <td>2401</td>\n",
       "      <td>Borderlands</td>\n",
       "      <td>Positive</td>\n",
       "      <td>im getting into borderlands and i can murder y...</td>\n",
       "    </tr>\n",
       "    <tr>\n",
       "      <th>...</th>\n",
       "      <td>...</td>\n",
       "      <td>...</td>\n",
       "      <td>...</td>\n",
       "      <td>...</td>\n",
       "    </tr>\n",
       "    <tr>\n",
       "      <th>74676</th>\n",
       "      <td>9200</td>\n",
       "      <td>Nvidia</td>\n",
       "      <td>Positive</td>\n",
       "      <td>Just realized that the Windows partition of my...</td>\n",
       "    </tr>\n",
       "    <tr>\n",
       "      <th>74677</th>\n",
       "      <td>9200</td>\n",
       "      <td>Nvidia</td>\n",
       "      <td>Positive</td>\n",
       "      <td>Just realized that my Mac window partition is ...</td>\n",
       "    </tr>\n",
       "    <tr>\n",
       "      <th>74678</th>\n",
       "      <td>9200</td>\n",
       "      <td>Nvidia</td>\n",
       "      <td>Positive</td>\n",
       "      <td>Just realized the windows partition of my Mac ...</td>\n",
       "    </tr>\n",
       "    <tr>\n",
       "      <th>74679</th>\n",
       "      <td>9200</td>\n",
       "      <td>Nvidia</td>\n",
       "      <td>Positive</td>\n",
       "      <td>Just realized between the windows partition of...</td>\n",
       "    </tr>\n",
       "    <tr>\n",
       "      <th>74680</th>\n",
       "      <td>9200</td>\n",
       "      <td>Nvidia</td>\n",
       "      <td>Positive</td>\n",
       "      <td>Just like the windows partition of my Mac is l...</td>\n",
       "    </tr>\n",
       "  </tbody>\n",
       "</table>\n",
       "<p>71655 rows × 4 columns</p>\n",
       "</div>"
      ],
      "text/plain": [
       "       Tweet_ID        Topic Sentiment  \\\n",
       "0          2401  Borderlands  Positive   \n",
       "1          2401  Borderlands  Positive   \n",
       "2          2401  Borderlands  Positive   \n",
       "3          2401  Borderlands  Positive   \n",
       "4          2401  Borderlands  Positive   \n",
       "...         ...          ...       ...   \n",
       "74676      9200       Nvidia  Positive   \n",
       "74677      9200       Nvidia  Positive   \n",
       "74678      9200       Nvidia  Positive   \n",
       "74679      9200       Nvidia  Positive   \n",
       "74680      9200       Nvidia  Positive   \n",
       "\n",
       "                                                   Tweet  \n",
       "0      I am coming to the borders and I will kill you...  \n",
       "1      im getting on borderlands and i will kill you ...  \n",
       "2      im coming on borderlands and i will murder you...  \n",
       "3      im getting on borderlands 2 and i will murder ...  \n",
       "4      im getting into borderlands and i can murder y...  \n",
       "...                                                  ...  \n",
       "74676  Just realized that the Windows partition of my...  \n",
       "74677  Just realized that my Mac window partition is ...  \n",
       "74678  Just realized the windows partition of my Mac ...  \n",
       "74679  Just realized between the windows partition of...  \n",
       "74680  Just like the windows partition of my Mac is l...  \n",
       "\n",
       "[71655 rows x 4 columns]"
      ]
     },
     "execution_count": 25,
     "metadata": {},
     "output_type": "execute_result"
    }
   ],
   "source": [
    "twitted_data.drop_duplicates(keep='first')"
   ]
  },
  {
   "cell_type": "code",
   "execution_count": 26,
   "metadata": {
    "execution": {
     "iopub.execute_input": "2022-07-22T05:23:51.636549Z",
     "iopub.status.busy": "2022-07-22T05:23:51.636129Z",
     "iopub.status.idle": "2022-07-22T05:23:51.649092Z",
     "shell.execute_reply": "2022-07-22T05:23:51.647968Z",
     "shell.execute_reply.started": "2022-07-22T05:23:51.636516Z"
    }
   },
   "outputs": [
    {
     "data": {
      "text/plain": [
       "MaddenNFL                            2377\n",
       "LeagueOfLegends                      2377\n",
       "CallOfDuty                           2376\n",
       "Verizon                              2365\n",
       "TomClancysRainbowSix                 2364\n",
       "Facebook                             2362\n",
       "Microsoft                            2361\n",
       "Dota2                                2359\n",
       "WorldOfCraft                         2357\n",
       "ApexLegends                          2353\n",
       "CallOfDutyBlackopsColdWar            2343\n",
       "NBA2K                                2343\n",
       "johnson&johnson                      2324\n",
       "FIFA                                 2324\n",
       "TomClancysGhostRecon                 2321\n",
       "Battlefield                          2316\n",
       "Overwatch                            2316\n",
       "GrandTheftAuto(GTA)                  2293\n",
       "HomeDepot                            2292\n",
       "PlayStation5(PS5)                    2291\n",
       "Hearthstone                          2286\n",
       "CS-GO                                2284\n",
       "Xbox(Xseries)                        2283\n",
       "Borderlands                          2279\n",
       "Amazon                               2276\n",
       "Google                               2274\n",
       "Nvidia                               2271\n",
       "Cyberpunk2077                        2262\n",
       "Fortnite                             2249\n",
       "RedDeadRedemption(RDR)               2249\n",
       "PlayerUnknownsBattlegrounds(PUBG)    2234\n",
       "AssassinsCreed                       2234\n",
       "Name: Topic, dtype: int64"
      ]
     },
     "execution_count": 26,
     "metadata": {},
     "output_type": "execute_result"
    }
   ],
   "source": [
    "twitted_data['Topic'].value_counts()"
   ]
  },
  {
   "cell_type": "code",
   "execution_count": 27,
   "metadata": {
    "execution": {
     "iopub.execute_input": "2022-07-22T05:29:18.030573Z",
     "iopub.status.busy": "2022-07-22T05:29:18.030180Z",
     "iopub.status.idle": "2022-07-22T05:29:18.078061Z",
     "shell.execute_reply": "2022-07-22T05:29:18.077322Z",
     "shell.execute_reply.started": "2022-07-22T05:29:18.030542Z"
    }
   },
   "outputs": [
    {
     "data": {
      "text/html": [
       "<div>\n",
       "<style scoped>\n",
       "    .dataframe tbody tr th:only-of-type {\n",
       "        vertical-align: middle;\n",
       "    }\n",
       "\n",
       "    .dataframe tbody tr th {\n",
       "        vertical-align: top;\n",
       "    }\n",
       "\n",
       "    .dataframe thead th {\n",
       "        text-align: right;\n",
       "    }\n",
       "</style>\n",
       "<table border=\"1\" class=\"dataframe\">\n",
       "  <thead>\n",
       "    <tr style=\"text-align: right;\">\n",
       "      <th>Topic</th>\n",
       "      <th>Amazon</th>\n",
       "      <th>ApexLegends</th>\n",
       "      <th>AssassinsCreed</th>\n",
       "      <th>Battlefield</th>\n",
       "      <th>Borderlands</th>\n",
       "      <th>CS-GO</th>\n",
       "      <th>CallOfDuty</th>\n",
       "      <th>CallOfDutyBlackopsColdWar</th>\n",
       "      <th>Cyberpunk2077</th>\n",
       "      <th>Dota2</th>\n",
       "      <th>...</th>\n",
       "      <th>Overwatch</th>\n",
       "      <th>PlayStation5(PS5)</th>\n",
       "      <th>PlayerUnknownsBattlegrounds(PUBG)</th>\n",
       "      <th>RedDeadRedemption(RDR)</th>\n",
       "      <th>TomClancysGhostRecon</th>\n",
       "      <th>TomClancysRainbowSix</th>\n",
       "      <th>Verizon</th>\n",
       "      <th>WorldOfCraft</th>\n",
       "      <th>Xbox(Xseries)</th>\n",
       "      <th>johnson&amp;johnson</th>\n",
       "    </tr>\n",
       "    <tr>\n",
       "      <th>Sentiment</th>\n",
       "      <th></th>\n",
       "      <th></th>\n",
       "      <th></th>\n",
       "      <th></th>\n",
       "      <th></th>\n",
       "      <th></th>\n",
       "      <th></th>\n",
       "      <th></th>\n",
       "      <th></th>\n",
       "      <th></th>\n",
       "      <th></th>\n",
       "      <th></th>\n",
       "      <th></th>\n",
       "      <th></th>\n",
       "      <th></th>\n",
       "      <th></th>\n",
       "      <th></th>\n",
       "      <th></th>\n",
       "      <th></th>\n",
       "      <th></th>\n",
       "      <th></th>\n",
       "    </tr>\n",
       "  </thead>\n",
       "  <tbody>\n",
       "    <tr>\n",
       "      <th>Irrelevant</th>\n",
       "      <td>186</td>\n",
       "      <td>192</td>\n",
       "      <td>264</td>\n",
       "      <td>915</td>\n",
       "      <td>240</td>\n",
       "      <td>632</td>\n",
       "      <td>672</td>\n",
       "      <td>569</td>\n",
       "      <td>465</td>\n",
       "      <td>425</td>\n",
       "      <td>...</td>\n",
       "      <td>667</td>\n",
       "      <td>395</td>\n",
       "      <td>895</td>\n",
       "      <td>210</td>\n",
       "      <td>24</td>\n",
       "      <td>96</td>\n",
       "      <td>180</td>\n",
       "      <td>216</td>\n",
       "      <td>714</td>\n",
       "      <td>197</td>\n",
       "    </tr>\n",
       "    <tr>\n",
       "      <th>Negative</th>\n",
       "      <td>575</td>\n",
       "      <td>591</td>\n",
       "      <td>375</td>\n",
       "      <td>464</td>\n",
       "      <td>426</td>\n",
       "      <td>344</td>\n",
       "      <td>883</td>\n",
       "      <td>566</td>\n",
       "      <td>385</td>\n",
       "      <td>767</td>\n",
       "      <td>...</td>\n",
       "      <td>627</td>\n",
       "      <td>453</td>\n",
       "      <td>678</td>\n",
       "      <td>305</td>\n",
       "      <td>894</td>\n",
       "      <td>1115</td>\n",
       "      <td>1092</td>\n",
       "      <td>340</td>\n",
       "      <td>373</td>\n",
       "      <td>845</td>\n",
       "    </tr>\n",
       "    <tr>\n",
       "      <th>Neutral</th>\n",
       "      <td>1207</td>\n",
       "      <td>936</td>\n",
       "      <td>156</td>\n",
       "      <td>351</td>\n",
       "      <td>597</td>\n",
       "      <td>548</td>\n",
       "      <td>375</td>\n",
       "      <td>352</td>\n",
       "      <td>462</td>\n",
       "      <td>588</td>\n",
       "      <td>...</td>\n",
       "      <td>296</td>\n",
       "      <td>507</td>\n",
       "      <td>263</td>\n",
       "      <td>807</td>\n",
       "      <td>789</td>\n",
       "      <td>640</td>\n",
       "      <td>565</td>\n",
       "      <td>1064</td>\n",
       "      <td>411</td>\n",
       "      <td>1013</td>\n",
       "    </tr>\n",
       "    <tr>\n",
       "      <th>Positive</th>\n",
       "      <td>308</td>\n",
       "      <td>634</td>\n",
       "      <td>1439</td>\n",
       "      <td>586</td>\n",
       "      <td>1016</td>\n",
       "      <td>760</td>\n",
       "      <td>446</td>\n",
       "      <td>856</td>\n",
       "      <td>950</td>\n",
       "      <td>579</td>\n",
       "      <td>...</td>\n",
       "      <td>726</td>\n",
       "      <td>936</td>\n",
       "      <td>398</td>\n",
       "      <td>927</td>\n",
       "      <td>614</td>\n",
       "      <td>513</td>\n",
       "      <td>528</td>\n",
       "      <td>737</td>\n",
       "      <td>785</td>\n",
       "      <td>269</td>\n",
       "    </tr>\n",
       "  </tbody>\n",
       "</table>\n",
       "<p>4 rows × 32 columns</p>\n",
       "</div>"
      ],
      "text/plain": [
       "Topic       Amazon  ApexLegends  AssassinsCreed  Battlefield  Borderlands  \\\n",
       "Sentiment                                                                   \n",
       "Irrelevant     186          192             264          915          240   \n",
       "Negative       575          591             375          464          426   \n",
       "Neutral       1207          936             156          351          597   \n",
       "Positive       308          634            1439          586         1016   \n",
       "\n",
       "Topic       CS-GO  CallOfDuty  CallOfDutyBlackopsColdWar  Cyberpunk2077  \\\n",
       "Sentiment                                                                 \n",
       "Irrelevant    632         672                        569            465   \n",
       "Negative      344         883                        566            385   \n",
       "Neutral       548         375                        352            462   \n",
       "Positive      760         446                        856            950   \n",
       "\n",
       "Topic       Dota2  ...  Overwatch  PlayStation5(PS5)  \\\n",
       "Sentiment          ...                                 \n",
       "Irrelevant    425  ...        667                395   \n",
       "Negative      767  ...        627                453   \n",
       "Neutral       588  ...        296                507   \n",
       "Positive      579  ...        726                936   \n",
       "\n",
       "Topic       PlayerUnknownsBattlegrounds(PUBG)  RedDeadRedemption(RDR)  \\\n",
       "Sentiment                                                               \n",
       "Irrelevant                                895                     210   \n",
       "Negative                                  678                     305   \n",
       "Neutral                                   263                     807   \n",
       "Positive                                  398                     927   \n",
       "\n",
       "Topic       TomClancysGhostRecon  TomClancysRainbowSix  Verizon  WorldOfCraft  \\\n",
       "Sentiment                                                                       \n",
       "Irrelevant                    24                    96      180           216   \n",
       "Negative                     894                  1115     1092           340   \n",
       "Neutral                      789                   640      565          1064   \n",
       "Positive                     614                   513      528           737   \n",
       "\n",
       "Topic       Xbox(Xseries)  johnson&johnson  \n",
       "Sentiment                                   \n",
       "Irrelevant            714              197  \n",
       "Negative              373              845  \n",
       "Neutral               411             1013  \n",
       "Positive              785              269  \n",
       "\n",
       "[4 rows x 32 columns]"
      ]
     },
     "execution_count": 27,
     "metadata": {},
     "output_type": "execute_result"
    }
   ],
   "source": [
    "pd.crosstab(index=twitted_data['Sentiment'], columns=twitted_data['Topic'])"
   ]
  },
  {
   "cell_type": "code",
   "execution_count": 28,
   "metadata": {
    "execution": {
     "iopub.execute_input": "2022-07-22T05:24:31.491467Z",
     "iopub.status.busy": "2022-07-22T05:24:31.491094Z",
     "iopub.status.idle": "2022-07-22T05:24:31.502120Z",
     "shell.execute_reply": "2022-07-22T05:24:31.501366Z",
     "shell.execute_reply.started": "2022-07-22T05:24:31.491437Z"
    }
   },
   "outputs": [
    {
     "data": {
      "text/plain": [
       "Negative      22358\n",
       "Positive      20654\n",
       "Neutral       18108\n",
       "Irrelevant    12875\n",
       "Name: Sentiment, dtype: int64"
      ]
     },
     "execution_count": 28,
     "metadata": {},
     "output_type": "execute_result"
    }
   ],
   "source": [
    "twitted_data['Sentiment'].value_counts()"
   ]
  },
  {
   "cell_type": "code",
   "execution_count": 29,
   "metadata": {
    "execution": {
     "iopub.execute_input": "2022-07-22T05:01:53.096218Z",
     "iopub.status.busy": "2022-07-22T05:01:53.095172Z",
     "iopub.status.idle": "2022-07-22T05:01:53.243434Z",
     "shell.execute_reply": "2022-07-22T05:01:53.242151Z",
     "shell.execute_reply.started": "2022-07-22T05:01:53.096173Z"
    }
   },
   "outputs": [
    {
     "data": {
      "text/plain": [
       "([<matplotlib.patches.Wedge at 0x2c140c40910>,\n",
       "  <matplotlib.patches.Wedge at 0x2c140c4f2b0>,\n",
       "  <matplotlib.patches.Wedge at 0x2c140c4fb80>,\n",
       "  <matplotlib.patches.Wedge at 0x2c140add430>],\n",
       " [Text(0.9607838724567679, 1.3414150552409116, 'Negative'),\n",
       "  Text(-1.5406022035686802, 0.5908001780291939, 'Positive'),\n",
       "  Text(-0.473836684503466, -1.5804995401513926, 'Neutral'),\n",
       "  Text(1.4095625136820573, -0.8576908067726505, 'Irrelevant')],\n",
       " [Text(0.5240639304309642, 0.7316809392223153, '30.2%'),\n",
       "  Text(-0.8403284746738254, 0.3222546425613785, '27.9%'),\n",
       "  Text(-0.25845637336552685, -0.8620906582643958, '24.5%'),\n",
       "  Text(0.768852280190213, -0.4678313491487184, '17.4%')])"
      ]
     },
     "execution_count": 29,
     "metadata": {},
     "output_type": "execute_result"
    },
    {
     "data": {
      "image/png": "[encoded data removed]",
      "text/plain": [
       "<Figure size 1080x360 with 1 Axes>"
      ]
     },
     "metadata": {},
     "output_type": "display_data"
    }
   ],
   "source": [
    "import matplotlib.pyplot as plt\n",
    "\n",
    "#Visualizing Sentiment feature - Target feature\n",
    "plt.figure(figsize=(15,5))\n",
    "\n",
    "#plot pie chart\n",
    "plt.subplot(1,2,1)\n",
    "label = twitted_data['Sentiment'].value_counts().index\n",
    "label_count = twitted_data['Sentiment'].value_counts().values\n",
    "plt.pie(data=twitted_data, x=label_count, labels=label, autopct='%1.1f%%', shadow=True, radius=1.5)\n"
   ]
  },
  {
   "cell_type": "code",
   "execution_count": 30,
   "metadata": {
    "execution": {
     "iopub.execute_input": "2022-07-22T05:05:55.964663Z",
     "iopub.status.busy": "2022-07-22T05:05:55.964273Z",
     "iopub.status.idle": "2022-07-22T05:05:56.656705Z",
     "shell.execute_reply": "2022-07-22T05:05:56.655597Z",
     "shell.execute_reply.started": "2022-07-22T05:05:55.964633Z"
    }
   },
   "outputs": [
    {
     "data": {
      "image/png": "[encoded data removed]",
      "text/plain": [
       "<Figure size 1080x360 with 1 Axes>"
      ]
     },
     "metadata": {
      "needs_background": "light"
     },
     "output_type": "display_data"
    }
   ],
   "source": [
    "import seaborn as sns\n",
    "#plot countplot chart\n",
    "plt.figure(figsize=(15,5))\n",
    "\n",
    "plt.subplot(1,2,2)\n",
    "ax = sns.countplot(x='Sentiment', data=twitted_data, order=label)\n",
    "for p in ax.patches:\n",
    "    height=p.get_height()\n",
    "    ax.text(x=p.get_x()+(p.get_width()/2),\n",
    "    y=height+0.2,ha='center',s='{:.0f}'.format(height))\n",
    "plt.show()"
   ]
  },
  {
   "cell_type": "code",
   "execution_count": 31,
   "metadata": {
    "execution": {
     "iopub.execute_input": "2022-07-22T05:09:10.153228Z",
     "iopub.status.busy": "2022-07-22T05:09:10.152809Z",
     "iopub.status.idle": "2022-07-22T05:09:10.282303Z",
     "shell.execute_reply": "2022-07-22T05:09:10.281351Z",
     "shell.execute_reply.started": "2022-07-22T05:09:10.153191Z"
    }
   },
   "outputs": [
    {
     "data": {
      "text/html": [
       "<div>\n",
       "<style scoped>\n",
       "    .dataframe tbody tr th:only-of-type {\n",
       "        vertical-align: middle;\n",
       "    }\n",
       "\n",
       "    .dataframe tbody tr th {\n",
       "        vertical-align: top;\n",
       "    }\n",
       "\n",
       "    .dataframe thead th {\n",
       "        text-align: right;\n",
       "    }\n",
       "</style>\n",
       "<table border=\"1\" class=\"dataframe\">\n",
       "  <thead>\n",
       "    <tr style=\"text-align: right;\">\n",
       "      <th></th>\n",
       "      <th>Tweet_ID</th>\n",
       "      <th>Topic</th>\n",
       "      <th>Sentiment</th>\n",
       "      <th>Tweet</th>\n",
       "      <th>word_count</th>\n",
       "    </tr>\n",
       "  </thead>\n",
       "  <tbody>\n",
       "    <tr>\n",
       "      <th>0</th>\n",
       "      <td>2401</td>\n",
       "      <td>Borderlands</td>\n",
       "      <td>Positive</td>\n",
       "      <td>I am coming to the borders and I will kill you...</td>\n",
       "      <td>12</td>\n",
       "    </tr>\n",
       "    <tr>\n",
       "      <th>1</th>\n",
       "      <td>2401</td>\n",
       "      <td>Borderlands</td>\n",
       "      <td>Positive</td>\n",
       "      <td>im getting on borderlands and i will kill you ...</td>\n",
       "      <td>10</td>\n",
       "    </tr>\n",
       "    <tr>\n",
       "      <th>2</th>\n",
       "      <td>2401</td>\n",
       "      <td>Borderlands</td>\n",
       "      <td>Positive</td>\n",
       "      <td>im coming on borderlands and i will murder you...</td>\n",
       "      <td>10</td>\n",
       "    </tr>\n",
       "    <tr>\n",
       "      <th>3</th>\n",
       "      <td>2401</td>\n",
       "      <td>Borderlands</td>\n",
       "      <td>Positive</td>\n",
       "      <td>im getting on borderlands 2 and i will murder ...</td>\n",
       "      <td>12</td>\n",
       "    </tr>\n",
       "    <tr>\n",
       "      <th>4</th>\n",
       "      <td>2401</td>\n",
       "      <td>Borderlands</td>\n",
       "      <td>Positive</td>\n",
       "      <td>im getting into borderlands and i can murder y...</td>\n",
       "      <td>10</td>\n",
       "    </tr>\n",
       "  </tbody>\n",
       "</table>\n",
       "</div>"
      ],
      "text/plain": [
       "   Tweet_ID        Topic Sentiment  \\\n",
       "0      2401  Borderlands  Positive   \n",
       "1      2401  Borderlands  Positive   \n",
       "2      2401  Borderlands  Positive   \n",
       "3      2401  Borderlands  Positive   \n",
       "4      2401  Borderlands  Positive   \n",
       "\n",
       "                                               Tweet  word_count  \n",
       "0  I am coming to the borders and I will kill you...          12  \n",
       "1  im getting on borderlands and i will kill you ...          10  \n",
       "2  im coming on borderlands and i will murder you...          10  \n",
       "3  im getting on borderlands 2 and i will murder ...          12  \n",
       "4  im getting into borderlands and i can murder y...          10  "
      ]
     },
     "execution_count": 31,
     "metadata": {},
     "output_type": "execute_result"
    }
   ],
   "source": [
    "# word count per tweet\n",
    "twitted_data['word_count'] = twitted_data['Tweet'].apply(lambda x : len(x.split()))\n",
    "twitted_data.head()"
   ]
  },
  {
   "cell_type": "code",
   "execution_count": 32,
   "metadata": {
    "execution": {
     "iopub.execute_input": "2022-07-22T05:22:01.323196Z",
     "iopub.status.busy": "2022-07-22T05:22:01.322375Z",
     "iopub.status.idle": "2022-07-22T05:22:02.085807Z",
     "shell.execute_reply": "2022-07-22T05:22:02.084512Z",
     "shell.execute_reply.started": "2022-07-22T05:22:01.323149Z"
    }
   },
   "outputs": [
    {
     "name": "stderr",
     "output_type": "stream",
     "text": [
      "C:\\ProgramData\\Anaconda3\\lib\\site-packages\\seaborn\\distributions.py:2557: FutureWarning: `distplot` is a deprecated function and will be removed in a future version. Please adapt your code to use either `displot` (a figure-level function with similar flexibility) or `histplot` (an axes-level function for histograms).\n",
      "  warnings.warn(msg, FutureWarning)\n"
     ]
    },
    {
     "data": {
      "text/plain": [
       "<AxesSubplot:ylabel='Density'>"
      ]
     },
     "execution_count": 32,
     "metadata": {},
     "output_type": "execute_result"
    },
    {
     "data": {
      "image/png": "[encoded data removed]",
      "text/plain": [
       "<Figure size 1080x720 with 2 Axes>"
      ]
     },
     "metadata": {
      "needs_background": "light"
     },
     "output_type": "display_data"
    }
   ],
   "source": [
    "plt.figure(figsize=(15,10))\n",
    "plt.subplot(2,1,1)\n",
    "sns.boxplot(x=twitted_data['word_count'])\n",
    "plt.title(('Distribution of number of tokens in tweets'))\n",
    "\n",
    "plt.subplot(2,1,2)\n",
    "sns.distplot(x=twitted_data['word_count'])"
   ]
  },
  {
   "cell_type": "code",
   "execution_count": null,
   "metadata": {},
   "outputs": [],
   "source": []
  },
  {
   "cell_type": "code",
   "execution_count": null,
   "metadata": {},
   "outputs": [],
   "source": []
  },
  {
   "cell_type": "code",
   "execution_count": null,
   "metadata": {},
   "outputs": [],
   "source": []
  },
  {
   "cell_type": "code",
   "execution_count": null,
   "metadata": {},
   "outputs": [],
   "source": []
  }
 ],
 "metadata": {
  "kernelspec": {
   "display_name": "Python 3",
   "language": "python",
   "name": "python3"
  },
  "language_info": {
   "codemirror_mode": {
    "name": "ipython",
    "version": 3
   },
   "file_extension": ".py",
   "mimetype": "text/x-python",
   "name": "python",
   "nbconvert_exporter": "python",
   "pygments_lexer": "ipython3",
   "version": "3.8.8"
  }
 },
 "nbformat": 4,
 "nbformat_minor": 4
}
